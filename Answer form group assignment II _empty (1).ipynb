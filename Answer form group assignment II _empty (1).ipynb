{
 "cells": [
  {
   "cell_type": "markdown",
   "id": "5ab5fd4c",
   "metadata": {},
   "source": [
    "# Group assignment part II: implementing the system \n",
    "\n",
    "You can use this template to build the script to run the glycolitic oscillation reaction system.\n",
    "Parts of the code are already filled in to make implementation easier (for example, you do not need to write the integration routine, you can use the built-in solve_IVP approach of scipy). Additionally, please have a look at the workflow slide that is added to the group project folder to help you in setting up the code properly (essentially, the workflow sums up the output of part I of the assignment). \n",
    "\n",
    "The system is based on Henson et al. (2002) and Lapin et al 2004: https://pubs.acs.org/doi/full/10.1021/ie030786k#\n",
    "\n",
    "The assignment is divided in three parts: \n",
    "\n",
    "**Part 1: all cells are equal** (one cell population) [75 points]\n",
    "- Plot the NADH oscillations in the system for the first 10 minutes.\n",
    "- Compare with the data plotted in Lapin (2004) in figure 5, after 55 minutes: do you observe similar oscillations? (you can also use slide 9 of lecture 7)\n",
    "\n",
    "**Part 2: assume all cells are equal, but use 50 populations** [15 points]\n",
    "- Plot the NADH oscillations for all cell populations for the first 10 minutes.\n",
    "- Since all cells are equal, the results should match the result of part 1, is that true?\n",
    "\n",
    "**Part 3: Use 50 populations, apply 5% variation on initial intra-cellular values** [10 points]\n",
    "- Plot the NADH oscillations for all cell populations for the first 10 minutes, and for 90-100 minutes.\n",
    "- Do you observe heterogeneity intially, and synchronization in the population later on? \n",
    "\n",
    "In all cases, write output data every $0.01$ minute. \n",
    "\n",
    "*TIPS*:\n",
    "- If you set up the functions in part 1 right, part 2 and 3 are not a lot of additional work. The main difference between part 1 and part 2/3 is that you need to 'loop over Nc cell populations'. But, if you already build the loop in part 1, you can use the same functions in all parts (after all, part 1 is just using the loop for Nc = 1). \n",
    "- But: the majority of the points can be acquired in the first part of the assignment. If you are uncertain whether you can do all three parts in the provided time, you can choose to not build in the loop and focus on part 1 only - and still get 75/100 points. \n",
    "- If you choose to first do part I without building in a loop, and then decide to do part II and III anyway, we recommend to make new functions for part II/III rather than adjusting the functions of part I. Otherwise, the modifications may result in part I not working anymore either - and that would be a waste of effort.  \n",
    "- Mind the units and signs! These (and typos) are the easiest to make a mistake in. All the expected outcomes are in the slides that were provided in lecture 7, so you can always look at them to see if your code works correctly. \n",
    "- For the assignments, you only need to plot NADH. But, in the slides several plots for extra- and intra-cellular PYR are shown. It may be good to plot these as well so you can verify your answer (you can leave them in the file you hand in, if you want, but that is your choice).\n",
    "\n",
    "\n"
   ]
  },
  {
   "cell_type": "code",
   "execution_count": null,
   "id": "e35359a9",
   "metadata": {},
   "outputs": [],
   "source": [
    "# import libraries\n",
    "\n",
    "import numpy as np\n",
    "from matplotlib import pyplot as plt\n",
    "from scipy.integrate import solve_ivp"
   ]
  },
  {
   "cell_type": "markdown",
   "id": "242cc89b",
   "metadata": {},
   "source": [
    "**Function section**:\n",
    "Write your functions in the section below. recommendation is to use at least two functions,for which a basic layout is provided (but you need to fill it in). You are free to use more functions if you want, of course. The recommended functions are:\n",
    "\n",
    "- kinetic_rates: a function that calculates the reaction rates. Note there are 8 rate equations, 6 intra-cellular rates, the exchange term $J_m = \\kappa \\cdot (PYR_{cell} - PYR_{liquid})$, and the extra-cellular breakdown of PYR.\n",
    "- differential_eqns: a function containing the differential balance equations (to be integrated with solve_ivp)\n",
    "- You will be using nested functions: kinetic_rates will be called inside differential_equations.\n"
   ]
  },
  {
   "cell_type": "code",
   "execution_count": null,
   "id": "24f0dd3d",
   "metadata": {},
   "outputs": [],
   "source": [
    "# create your functions here.\n",
    "\n",
    "# FUNCTION 1: kinetic_rates\n",
    "# input: concentrations, maximum rate constants, other rate parameters\n",
    "# output: reaction rates r1 - r7 and JM (you can set JM as r0. Note: remove phi from JM)\n",
    "\n",
    "\n",
    "\n",
    "\n",
    "\n",
    "# FUNCTION 2: differential_equations\n",
    "# input: time, concentrations, max. rate constants, other rate parameters, no. cells.\n",
    "# output: dC/dt for each balance.\n",
    "# Note: you will need to call function 1 within this function to calculate the rates each timestep. \n",
    "\n",
    "# set of differential equations - do not forget to have t as an input even when it is not used in the function\n",
    "# because the differential solver (solve_ivp) does need it to be there. You can use the function header below to ensure\n",
    "# the function inputs match the requirements for solve_ivp (you can adjust names if you want)\n",
    "\n",
    "def differential_eqns(t, conc,max_rate,other_par,NC):\n",
    "    "
   ]
  },
  {
   "cell_type": "markdown",
   "id": "f5813552",
   "metadata": {},
   "source": [
    "**Calculation, part I**:\n",
    "Below, you can provide the required parameters, and run the calculation.\n",
    "Advised layout:\n",
    "- Input section: write the rate parameters and other parameters, set the number of cell populations $Nc$, set the time settings, set the initial concentration values as reported in the slides. \n",
    "- calculation section: the input for solve_ivp is already provided, with the syntax below. Of course, you are free to change variable names if you prefer. \n",
    "\n",
    "Setup for the solve_ivp function:\n",
    "\n",
    "*[output] = solve_ivp([function_name], [starttime, endtime], [initial values], args=([tuple with additional parameters to be passed to the differential equation function], t_eval = [list with timepoints for writing data])*\n",
    "\n",
    "In this case the *args* tuple contains three subsets: max_rate a tuple with the maximum rate constants (k1 - k7), other_par a tuple with other parameters (such as J0, kappa, etc.) and Nc a scalar for the number of cell populations. \n",
    "\n"
   ]
  },
  {
   "cell_type": "code",
   "execution_count": null,
   "id": "240676c6",
   "metadata": {},
   "outputs": [],
   "source": [
    "# add your input here:\n",
    "\n",
    "\n",
    "# parameters for timekeeping.\n",
    "dt =                                                   # writing interval in minutes\n",
    "runtime =                                              # total runtime in minutes\n",
    "steps = int(runtime/dt) + 1                            # writing steps in runtime.\n",
    "\n",
    "# set timesteps for output generation. sol_diff will store data at these timepoints.\n",
    "output_time = dt*np.linspace(0,(steps-1),steps)\n",
    "\n",
    "# use solve_ivp to perform numerical integration on the set of equations\n",
    "sol_diff = solve_ivp(differential_eqns, [0, runtime], c0, args=(max_rate,other_par,NC), t_eval = output_time)\n",
    "\n"
   ]
  },
  {
   "cell_type": "markdown",
   "id": "6df414a3",
   "metadata": {},
   "source": [
    "**plotting section, part I**\n",
    "\n",
    "The output data of the integration script is stored in the object 'sol_diff'. \n",
    "From this object, you can extract the timepoints using *sol_diff.t*  (the timepoints are a 1-by-steps vector).\n",
    "You can extract the results as *sol_diff.y* (the results are a balances-by-steps vector, where the number of balances is 7 for a single population) "
   ]
  },
  {
   "cell_type": "code",
   "execution_count": null,
   "id": "030b6076",
   "metadata": {},
   "outputs": [],
   "source": [
    "# create your plot here\n"
   ]
  },
  {
   "cell_type": "markdown",
   "id": "f6113603",
   "metadata": {},
   "source": [
    "**Calculation and plotting, part II**:\n",
    "Below, you can provide the required parameters, and run the calculation, for the second part of the assignment. You can define new functions if you want/need to, as well.  \n",
    "\n",
    "*TIP*: \n",
    "- if Nc > 1, you will need to provide a set of initial values for each cell population for the intracellular pools, but still only one initial value for the liquid phase PYR concentration. Think about what is the best way to set up the np.array with initial values, and set it up such that it works for any value of Nc."
   ]
  },
  {
   "cell_type": "code",
   "execution_count": null,
   "id": "d6f08fe3",
   "metadata": {},
   "outputs": [],
   "source": [
    "# insert the code for multiple cells here.\n",
    "\n",
    "\n",
    "\n",
    "# use solve_ivp to perform numerical integration on the set of equations\n",
    "sol_diff = solve_ivp(differential_eqns, [0, runtime], c0, args=(max_rate,other_par,NC), t_eval = output_time)\n",
    "\n",
    "\n"
   ]
  },
  {
   "cell_type": "code",
   "execution_count": null,
   "id": "ee9511f5",
   "metadata": {},
   "outputs": [],
   "source": [
    "# create your plot here\n",
    "\n"
   ]
  },
  {
   "cell_type": "markdown",
   "id": "2c002402",
   "metadata": {},
   "source": [
    "**Calculation and plotting, part III**:\n",
    "Below, you can provide the required parameters, and run the calculation, for the second part of the assignment. You can define new functions if you want/need to, as well.  \n",
    "\n",
    "*TIP*: \n",
    "- The code is actually very similar to part III, jut think about how to add a random change of max. 5% to the initial values for the intra-cellular pools. "
   ]
  },
  {
   "cell_type": "code",
   "execution_count": null,
   "id": "d994d60c",
   "metadata": {},
   "outputs": [],
   "source": [
    "# insert the code for variable intial values here.\n",
    "\n",
    "    \n",
    "# use solve_ivp to perform numerical integration on the set of equations\n",
    "sol_diff = solve_ivp(differential_eqns, [0, runtime], c0, args=(max_rate,other_par,NC), t_eval = output_time)\n",
    "\n"
   ]
  },
  {
   "cell_type": "code",
   "execution_count": null,
   "id": "54b7cf6c",
   "metadata": {},
   "outputs": [],
   "source": [
    "# create your plot here for t = 0 to 10 minutes\n",
    "\n",
    "\n"
   ]
  },
  {
   "cell_type": "code",
   "execution_count": null,
   "id": "3abed9cc",
   "metadata": {},
   "outputs": [],
   "source": [
    "# create your plot here for t = 90 to 100 minutes\n"
   ]
  }
 ],
 "metadata": {
  "kernelspec": {
   "display_name": "Python 3 (ipykernel)",
   "language": "python",
   "name": "python3"
  },
  "language_info": {
   "codemirror_mode": {
    "name": "ipython",
    "version": 3
   },
   "file_extension": ".py",
   "mimetype": "text/x-python",
   "name": "python",
   "nbconvert_exporter": "python",
   "pygments_lexer": "ipython3",
   "version": "3.9.7"
  }
 },
 "nbformat": 4,
 "nbformat_minor": 5
}
